{
 "cells": [
  {
   "cell_type": "code",
   "execution_count": 1,
   "metadata": {
    "collapsed": true
   },
   "outputs": [],
   "source": [
    "import numpy as np\n",
    "import tensorflow as tf"
   ]
  },
  {
   "cell_type": "code",
   "execution_count": 2,
   "metadata": {
    "collapsed": true
   },
   "outputs": [],
   "source": [
    "scalar = tf.constant([2])\n",
    "vector = tf.constant([5, 6,2])\n",
    "matrix = tf.constant([[1, 2, 3], [2, 3, 4], [3, 4,5]])\n",
    "tensor = tf.constant([[[1,2,3],[2, 3, 4], [3, 4, 5]], [[4,5,6],[5,6,7],[6,7,8]], [[7,8,9], [8,9,10],[9,10,11]] ])"
   ]
  },
  {
   "cell_type": "code",
   "execution_count": 3,
   "metadata": {
    "collapsed": false
   },
   "outputs": [
    {
     "name": "stdout",
     "output_type": "stream",
     "text": [
      "Scalar is : [2]\n",
      "Vector is : [5 6 2]\n",
      "Matrix is : [[1 2 3]\n",
      " [2 3 4]\n",
      " [3 4 5]]\n",
      "Tensor is : [[[ 1  2  3]\n",
      "  [ 2  3  4]\n",
      "  [ 3  4  5]]\n",
      "\n",
      " [[ 4  5  6]\n",
      "  [ 5  6  7]\n",
      "  [ 6  7  8]]\n",
      "\n",
      " [[ 7  8  9]\n",
      "  [ 8  9 10]\n",
      "  [ 9 10 11]]]\n"
     ]
    }
   ],
   "source": [
    "with tf.Session() as sess:\n",
    "    print ('Scalar is :', sess.run(scalar))\n",
    "    print ('Vector is :', sess.run(vector))\n",
    "    print ('Matrix is :', sess.run(matrix))\n",
    "    print ('Tensor is :', sess.run(tensor))"
   ]
  },
  {
   "cell_type": "markdown",
   "metadata": {},
   "source": [
    "## Variables"
   ]
  },
  {
   "cell_type": "code",
   "execution_count": 4,
   "metadata": {
    "collapsed": true
   },
   "outputs": [],
   "source": [
    "state = tf.Variable(0)\n",
    "one = tf.constant(1)\n",
    "new_value = tf.add(state, one)\n",
    "update = tf.assign(state, new_value)\n",
    "\n",
    "init_op = tf.initialize_all_variables()\n"
   ]
  },
  {
   "cell_type": "code",
   "execution_count": 5,
   "metadata": {
    "collapsed": false
   },
   "outputs": [
    {
     "name": "stdout",
     "output_type": "stream",
     "text": [
      "State =  0\n",
      "State =  1\n",
      "State =  2\n",
      "State =  3\n"
     ]
    }
   ],
   "source": [
    "with tf.Session() as sess:\n",
    "    sess.run(init_op)\n",
    "    print('State = ', sess.run(state))\n",
    "    for _ in range(3):\n",
    "        sess.run(update)\n",
    "        print ('State = ', sess.run(state))"
   ]
  },
  {
   "cell_type": "markdown",
   "metadata": {},
   "source": [
    "## Placeholders "
   ]
  },
  {
   "cell_type": "code",
   "execution_count": 7,
   "metadata": {
    "collapsed": false
   },
   "outputs": [
    {
     "name": "stdout",
     "output_type": "stream",
     "text": [
      "Result =  7.0\n",
      "Result =  [ 2.  4.  7.]\n"
     ]
    }
   ],
   "source": [
    "a = tf.placeholder(tf.float32)\n",
    "b = a * 2\n",
    "with tf.Session() as sess:\n",
    "    result = sess.run(b, feed_dict={a: 3.5})\n",
    "    print ('Result = ', result)\n",
    "    \n",
    "    \n",
    "with tf.Session() as sess:\n",
    "    result = sess.run(b, feed_dict={a: [1.0, 2.0, 3.5]})\n",
    "    print ('Result = ', result)"
   ]
  },
  {
   "cell_type": "code",
   "execution_count": null,
   "metadata": {
    "collapsed": true
   },
   "outputs": [],
   "source": []
  }
 ],
 "metadata": {
  "anaconda-cloud": {},
  "kernelspec": {
   "display_name": "Python [conda root]",
   "language": "python",
   "name": "conda-root-py"
  },
  "language_info": {
   "codemirror_mode": {
    "name": "ipython",
    "version": 3
   },
   "file_extension": ".py",
   "mimetype": "text/x-python",
   "name": "python",
   "nbconvert_exporter": "python",
   "pygments_lexer": "ipython3",
   "version": "3.5.2"
  }
 },
 "nbformat": 4,
 "nbformat_minor": 1
}
